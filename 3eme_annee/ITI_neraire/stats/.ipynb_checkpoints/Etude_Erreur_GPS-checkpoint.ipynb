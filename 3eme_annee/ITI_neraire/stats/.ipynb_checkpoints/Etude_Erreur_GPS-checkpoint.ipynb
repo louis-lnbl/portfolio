{
 "cells": [
  {
   "cell_type": "code",
   "execution_count": 2,
   "metadata": {},
   "outputs": [],
   "source": [
    "import numpy as np\n",
    "import pandas as pd"
   ]
  },
  {
   "cell_type": "code",
   "execution_count": 4,
   "metadata": {},
   "outputs": [],
   "source": [
    "def calculer_erreurs_trajectoires(fichier_ref, fichier_mes):\n",
    "    \"\"\"\n",
    "    Charge deux fichiers CSV contenant des trajectoires et calcule :\n",
    "    - L'erreur statique (biais moyen)\n",
    "    - L'erreur sur l'écart-type (écart de dispersion)\n",
    "    \n",
    "    :param fichier_ref: str, chemin du fichier CSV contenant la trajectoire de référence\n",
    "    :param fichier_mes: str, chemin du fichier CSV contenant la trajectoire mesurée\n",
    "    :return: tuple (erreur_stat_lat, erreur_std_lat, erreur_stat_lon, erreur_std_lon)\n",
    "    \"\"\"\n",
    "    # Charger les fichiers CSV\n",
    "    df_ref = pd.read_csv(fichier_ref)\n",
    "    df_mes = pd.read_csv(fichier_mes)\n",
    "\n",
    "    # Vérifier que les fichiers ont le même nombre de points\n",
    "    if len(df_ref) != len(df_mes):\n",
    "        raise ValueError(\"Les fichiers CSV doivent contenir le même nombre de points.\")\n",
    "\n",
    "    # Extraire les valeurs sous forme de tableaux numpy\n",
    "    lat_ref = df_ref.iloc[:, 1].to_numpy()  # 2ème colonne (Latitude)\n",
    "    lon_ref = df_ref.iloc[:, 2].to_numpy()  # 3ème colonne (Longitude)\n",
    "    lat_mes = df_mes.iloc[:, 1].to_numpy()\n",
    "    lon_mes = df_mes.iloc[:, 2].to_numpy()\n",
    "\n",
    "    # Calcul des erreurs\n",
    "    erreur_stat_lat = np.mean(lat_ref - lat_mes)\n",
    "    erreur_std_lat = np.std(lat_ref, ddof=1) - np.std(lat_mes, ddof=1)\n",
    "    erreur_stat_lon = np.mean(lon_ref - lon_mes)\n",
    "    erreur_std_lon = np.std(lon_ref, ddof=1) - np.std(lon_mes, ddof=1)\n",
    "\n",
    "    return erreur_stat_lat, erreur_std_lat, erreur_stat_lon, erreur_std_lon"
   ]
  }
 ],
 "metadata": {
  "kernelspec": {
   "display_name": "Python 3 (ipykernel)",
   "language": "python",
   "name": "python3"
  },
  "language_info": {
   "codemirror_mode": {
    "name": "ipython",
    "version": 3
   },
   "file_extension": ".py",
   "mimetype": "text/x-python",
   "name": "python",
   "nbconvert_exporter": "python",
   "pygments_lexer": "ipython3",
   "version": "3.10.12"
  }
 },
 "nbformat": 4,
 "nbformat_minor": 2
}
