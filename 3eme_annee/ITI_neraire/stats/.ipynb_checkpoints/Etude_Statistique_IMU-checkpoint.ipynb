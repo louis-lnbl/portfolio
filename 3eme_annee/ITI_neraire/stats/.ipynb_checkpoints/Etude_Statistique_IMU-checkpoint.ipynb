{
 "cells": [
  {
   "cell_type": "code",
   "execution_count": 1,
   "id": "c607fb4d",
   "metadata": {},
   "outputs": [],
   "source": [
    "import pandas as pd\n",
    "import numpy as np"
   ]
  },
  {
   "cell_type": "code",
   "execution_count": 4,
   "id": "c3745dbb",
   "metadata": {},
   "outputs": [
    {
     "name": "stdout",
     "output_type": "stream",
     "text": [
      "          Timestamp   Accel X   Accel Y   Accel Z   Gyro X   Gyro Y   Gyro Z\n",
      "0      1.741712e+09 -0.509167  0.858209  0.169092 -0.47250 -0.22750  0.58625\n",
      "1      1.741712e+09 -0.506178  0.859734  0.179767 -0.55125 -0.24500  0.54250\n",
      "2      1.741712e+09 -0.511119  0.856562  0.175558 -0.26250 -0.07875  0.57750\n",
      "3      1.741712e+09 -0.504775  0.857904  0.174948 -0.25375 -0.18375  0.73500\n",
      "4      1.741712e+09 -0.505873  0.856257  0.172020 -0.39375 -0.14875  0.69125\n",
      "...             ...       ...       ...       ...      ...      ...      ...\n",
      "19012  1.741712e+09 -0.522404  0.867481  0.157990 -0.76125 -0.27125  1.54000\n",
      "19013  1.741712e+09 -0.502213  0.866566  0.161955 -0.63000 -0.19250  1.23375\n",
      "19014  1.741712e+09 -0.494039  0.855220  0.165981 -0.74375 -0.63000  1.14625\n",
      "19015  1.741712e+09 -0.515145  0.826062  0.176107 -0.68250 -0.49000  1.29500\n",
      "19016  1.741712e+09 -0.496906  0.819413  0.175558 -0.79625  0.07000  1.45250\n",
      "\n",
      "[19017 rows x 7 columns]\n"
     ]
    }
   ],
   "source": [
    "data_IMU_Statique = pd.read_csv(\"../data/Gr11/donnees/acquisitions_accelerometre_exterieur_statique.csv\")\n",
    "data_IMU_Mouvement = pd.read_csv(\"../data/Gr11/donnees/acquisitions_accelerometre_exterieur_mouvement.csv\")\n",
    "print(data_IMU_Statique)"
   ]
  },
  {
   "cell_type": "code",
   "execution_count": null,
   "id": "b6ed5a52",
   "metadata": {},
   "outputs": [],
   "source": []
  }
 ],
 "metadata": {
  "kernelspec": {
   "display_name": "Python 3 (ipykernel)",
   "language": "python",
   "name": "python3"
  },
  "language_info": {
   "codemirror_mode": {
    "name": "ipython",
    "version": 3
   },
   "file_extension": ".py",
   "mimetype": "text/x-python",
   "name": "python",
   "nbconvert_exporter": "python",
   "pygments_lexer": "ipython3",
   "version": "3.10.12"
  }
 },
 "nbformat": 4,
 "nbformat_minor": 5
}
