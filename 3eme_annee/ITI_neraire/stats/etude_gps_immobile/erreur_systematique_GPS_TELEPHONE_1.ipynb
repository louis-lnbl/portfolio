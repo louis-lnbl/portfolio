{
 "cells": [
  {
   "cell_type": "code",
   "execution_count": 1,
   "id": "f5a7dc01",
   "metadata": {},
   "outputs": [],
   "source": [
    "import numpy as np\n",
    "import csv\n",
    "import matplotlib.pyplot as plt"
   ]
  },
  {
   "cell_type": "code",
   "execution_count": 2,
   "id": "c5cf550b",
   "metadata": {},
   "outputs": [],
   "source": [
    "# Chargement des données GPS (acquisition 1)\n",
    "dico1 = {'temps': [], 'date': [], 'latitude': [], 'longitude': []}\n",
    "with open(\"acquisitions_exterieur_statique_gps.csv\", mode=\"r\", encoding=\"utf-8\") as fichier:\n",
    "    lecteur_csv = csv.reader(fichier)\n",
    "    next(lecteur_csv)  # Ignorer l'en-tête\n",
    "    for ligne in lecteur_csv:\n",
    "        dico1['temps'].append(float(ligne[0]))\n",
    "        dico1['date'].append(ligne[1])\n",
    "        dico1['latitude'].append(float(ligne[2]))\n",
    "        dico1['longitude'].append(float(ligne[3]))\n"
   ]
  },
  {
   "cell_type": "code",
   "execution_count": 3,
   "id": "3ee38270",
   "metadata": {},
   "outputs": [],
   "source": [
    "# Chargement des données GPS (acquisition 2 - téléphone)\n",
    "dico2 = {'temps': [], 'date': [], 'latitude': [], 'longitude': []}\n",
    "with open(\"../data_en_csv/data_immobile_1.csv\", mode=\"r\", encoding=\"utf-8\") as fichier:\n",
    "    lecteur_csv = csv.reader(fichier)\n",
    "    next(lecteur_csv)  # Ignorer l'en-tête\n",
    "    for ligne in lecteur_csv:\n",
    "        dico2['date'].append(ligne[0])\n",
    "        dico2['latitude'].append(float(ligne[1]))\n",
    "        dico2['longitude'].append(float(ligne[2]))\n"
   ]
  },
  {
   "cell_type": "code",
   "execution_count": 4,
   "id": "96487348",
   "metadata": {},
   "outputs": [],
   "source": [
    "# Moyennes des latitudes et longitudes\n",
    "moy_lat1, moy_long1 = np.mean(dico1['latitude']), np.mean(dico1['longitude'])\n",
    "moy_lat2, moy_long2 = np.mean(dico2['latitude']), np.mean(dico2['longitude'])"
   ]
  },
  {
   "cell_type": "code",
   "execution_count": 5,
   "id": "85fd54dc",
   "metadata": {},
   "outputs": [],
   "source": [
    "\n",
    "# Erreur systématique\n",
    "erreur_lat = moy_lat2 - moy_lat1\n",
    "erreur_long = moy_long2 - moy_long1"
   ]
  },
  {
   "cell_type": "code",
   "execution_count": 6,
   "id": "638bd4b1",
   "metadata": {},
   "outputs": [
    {
     "name": "stdout",
     "output_type": "stream",
     "text": [
      "Erreur systématique latitude: 9.815589336881203e-06 degrés\n",
      "Erreur systématique longitude: -1.8939702802533986e-05 degrés\n"
     ]
    }
   ],
   "source": [
    "print(f\"Erreur systématique latitude: {erreur_lat} degrés\")\n",
    "print(f\"Erreur systématique longitude: {erreur_long} degrés\")\n"
   ]
  },
  {
   "cell_type": "code",
   "execution_count": 7,
   "id": "5ab13fa7",
   "metadata": {},
   "outputs": [
    {
     "data": {
      "image/png": "[encoded data removed]",
      "text/plain": [
       "<Figure size 720x360 with 2 Axes>"
      ]
     },
     "metadata": {
      "needs_background": "light"
     },
     "output_type": "display_data"
    }
   ],
   "source": [
    "\n",
    "# Visualisation\n",
    "plt.figure(figsize=(10, 5))\n",
    "\n",
    "plt.subplot(1, 2, 1)\n",
    "plt.hist(dico1['latitude'], alpha=0.5, label='GPS')\n",
    "plt.hist(dico2['latitude'], alpha=0.5, label='Téléphone')\n",
    "plt.axvline(moy_lat1, color='blue', linestyle='dashed', label='Moyenne GPS')\n",
    "plt.axvline(moy_lat2, color='red', linestyle='dashed', label='Moyenne Téléphone')\n",
    "plt.xlabel(\"Latitude\")\n",
    "plt.legend()\n",
    "\n",
    "plt.subplot(1, 2, 2)\n",
    "plt.hist(dico1['longitude'], alpha=0.5, label='GPS')\n",
    "plt.hist(dico2['longitude'], alpha=0.5, label='Téléphone')\n",
    "plt.axvline(moy_long1, color='blue', linestyle='dashed', label='Moyenne GPS')\n",
    "plt.axvline(moy_long2, color='red', linestyle='dashed', label='Moyenne Téléphone')\n",
    "plt.xlabel(\"Longitude\")\n",
    "plt.legend()\n",
    "\n",
    "plt.suptitle(\"Comparaison des acquisitions GPS vs Téléphone\")\n",
    "plt.show()\n"
   ]
  },
  {
   "cell_type": "code",
   "execution_count": null,
   "id": "9d5235d7",
   "metadata": {},
   "outputs": [],
   "source": []
  }
 ],
 "metadata": {
  "kernelspec": {
   "display_name": "Python 3 (ipykernel)",
   "language": "python",
   "name": "python3"
  },
  "language_info": {
   "codemirror_mode": {
    "name": "ipython",
    "version": 3
   },
   "file_extension": ".py",
   "mimetype": "text/x-python",
   "name": "python",
   "nbconvert_exporter": "python",
   "pygments_lexer": "ipython3",
   "version": "3.10.12"
  }
 },
 "nbformat": 4,
 "nbformat_minor": 5
}
