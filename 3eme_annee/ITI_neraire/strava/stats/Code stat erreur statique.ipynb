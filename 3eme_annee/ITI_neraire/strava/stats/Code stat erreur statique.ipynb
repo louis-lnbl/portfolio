{
 "cells": [
  {
   "cell_type": "code",
   "execution_count": 3,
   "id": "48d44eb8",
   "metadata": {},
   "outputs": [
    {
     "name": "stdout",
     "output_type": "stream",
     "text": [
      "Collecting pandas\n",
      "  Using cached pandas-2.2.3-cp313-cp313-manylinux_2_17_x86_64.manylinux2014_x86_64.whl.metadata (89 kB)\n",
      "Requirement already satisfied: numpy>=1.26.0 in /home/fbellili/.pyenv/versions/3.13.2/lib/python3.13/site-packages (from pandas) (2.2.4)\n",
      "Requirement already satisfied: python-dateutil>=2.8.2 in /home/fbellili/.pyenv/versions/3.13.2/lib/python3.13/site-packages (from pandas) (2.9.0.post0)\n",
      "Collecting pytz>=2020.1 (from pandas)\n",
      "  Using cached pytz-2025.2-py2.py3-none-any.whl.metadata (22 kB)\n",
      "Collecting tzdata>=2022.7 (from pandas)\n",
      "  Using cached tzdata-2025.2-py2.py3-none-any.whl.metadata (1.4 kB)\n",
      "Requirement already satisfied: six>=1.5 in /home/fbellili/.pyenv/versions/3.13.2/lib/python3.13/site-packages (from python-dateutil>=2.8.2->pandas) (1.17.0)\n",
      "Using cached pandas-2.2.3-cp313-cp313-manylinux_2_17_x86_64.manylinux2014_x86_64.whl (12.7 MB)\n",
      "Using cached pytz-2025.2-py2.py3-none-any.whl (509 kB)\n",
      "Using cached tzdata-2025.2-py2.py3-none-any.whl (347 kB)\n",
      "Installing collected packages: pytz, tzdata, pandas\n",
      "Successfully installed pandas-2.2.3 pytz-2025.2 tzdata-2025.2\n",
      "\n",
      "\u001b[1m[\u001b[0m\u001b[34;49mnotice\u001b[0m\u001b[1;39;49m]\u001b[0m\u001b[39;49m A new release of pip is available: \u001b[0m\u001b[31;49m24.3.1\u001b[0m\u001b[39;49m -> \u001b[0m\u001b[32;49m25.0.1\u001b[0m\n",
      "\u001b[1m[\u001b[0m\u001b[34;49mnotice\u001b[0m\u001b[1;39;49m]\u001b[0m\u001b[39;49m To update, run: \u001b[0m\u001b[32;49mpip install --upgrade pip\u001b[0m\n"
     ]
    }
   ],
   "source": [
    "!pip install pandas\n",
    "import numpy as np\n",
    "import pandas as pd \n",
    "from converter_gpx import convert_gpx_to_csv"
   ]
  },
  {
   "cell_type": "code",
   "execution_count": 5,
   "id": "27ed1516",
   "metadata": {},
   "outputs": [
    {
     "name": "stdout",
     "output_type": "stream",
     "text": [
      "Conversion terminée ! Fichier enregistré : data_en_csv/data_dumont_1.csv\n",
      "Conversion terminée ! Fichier enregistré : data_en_csv/data_dumont_2.csv\n",
      "Conversion terminée ! Fichier enregistré : data_en_csv/data_dumont_3.csv\n",
      "Conversion terminée ! Fichier enregistré : data_en_csv/data_dumont_4.csv\n",
      "Conversion terminée ! Fichier enregistré : data_en_csv/data_dumont_5.csv\n"
     ]
    }
   ],
   "source": [
    "convert_gpx_to_csv(\"../data/GR11_2/boucle1_dumont/boucle1_dumont_gps_ref.gpx\", \"data_en_csv/data_dumont_1.csv\")\n",
    "convert_gpx_to_csv(\"../data/GR11_2/boucle2_dumont/boucle2_dumont_gps_ref.gpx\", \"data_en_csv/data_dumont_2.csv\")\n",
    "convert_gpx_to_csv(\"../data/GR11_2/boucle3_dumont/boucle3_dumont_gps_ref.gpx\", \"data_en_csv/data_dumont_3.csv\")\n",
    "convert_gpx_to_csv(\"../data/GR11_2/boucle4_dumont/boucle4_dumont_gps_ref.gpx\", \"data_en_csv/data_dumont_4.csv\")\n",
    "convert_gpx_to_csv(\"../data/GR11_2/boucle5_dumont/boucle5_dumont_gps_ref.gpx\", \"data_en_csv/data_dumont_5.csv\")"
   ]
  },
  {
   "cell_type": "code",
   "execution_count": 6,
   "id": "d839627a",
   "metadata": {},
   "outputs": [],
   "source": [
    "data_tel_immobile_1 = pd.read_csv(\"data_en_csv/data_immobile_1.csv\")\n",
    "data__tel_immobile_2 = pd.read_csv(\"data_en_csv/data_immobile_2.csv\")\n",
    "data_tel_immobile_3 = pd.read_csv(\"data_en_csv/data_immobile_3.csv\")\n",
    "data_tel_Gande_Balade_1 = pd.read_csv(\"data_en_csv/data_Grande_Balade_1.csv\")\n",
    "\n",
    "data_gps_immobile_1 = pd.read_csv(\"../data/Gr11/donnees/acquisitions_exterieur_statique_gps.csv\")"
   ]
  },
  {
   "cell_type": "code",
   "execution_count": null,
   "id": "d48b2358",
   "metadata": {},
   "outputs": [],
   "source": []
  }
 ],
 "metadata": {
  "kernelspec": {
   "display_name": "Python 3",
   "language": "python",
   "name": "python3"
  },
  "language_info": {
   "codemirror_mode": {
    "name": "ipython",
    "version": 3
   },
   "file_extension": ".py",
   "mimetype": "text/x-python",
   "name": "python",
   "nbconvert_exporter": "python",
   "pygments_lexer": "ipython3",
   "version": "3.13.2"
  }
 },
 "nbformat": 4,
 "nbformat_minor": 5
}
